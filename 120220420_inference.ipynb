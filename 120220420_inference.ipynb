{
 "cells": [
  {
   "cell_type": "code",
   "execution_count": 1,
   "id": "a867de81",
   "metadata": {},
   "outputs": [],
   "source": [
    "import rlcard\n",
    "import collections\n",
    "import random\n",
    "import torch\n",
    "import torch.nn as nn\n",
    "import torch.optim as optim\n",
    "import torch.nn.functional as F\n",
    "from rlcard.utils import Logger, tournament\n",
    "from rlcard.agents import RandomAgent\n",
    "import pickle"
   ]
  },
  {
   "cell_type": "code",
   "execution_count": 2,
   "id": "1d99fe72",
   "metadata": {},
   "outputs": [],
   "source": [
    "random.seed(42)\n",
    "learning_rate = 0.0005\n",
    "gamma = 0.98\n",
    "buffer_limit = 50000\n",
    "batch_size = 32"
   ]
  },
  {
   "cell_type": "code",
   "execution_count": 3,
   "id": "a6f9c8a8",
   "metadata": {},
   "outputs": [],
   "source": [
    "class ReplayBuffer():\n",
    "    def __init__(self):\n",
    "        self.buffer = collections.deque(maxlen=buffer_limit)    # double-ended queue\n",
    "    \n",
    "    def put(self, transition):\n",
    "        self.buffer.append(transition)\n",
    "\n",
    "    def sample(self, n):\n",
    "        mini_batch = random.sample(self.buffer, n)\n",
    "        s_lst, a_lst, r_lst, s_prime_lst, done_mask_lst = [], [], [], [], []\n",
    "\n",
    "        for transition in mini_batch:\n",
    "            s, a, r, s_prime, done_mask = transition\n",
    "            s_lst.append(s)\n",
    "            a_lst.append([a])\n",
    "            r_lst.append([r])\n",
    "            s_prime_lst.append(s_prime)\n",
    "            done_mask_lst.append([done_mask])\n",
    "\n",
    "        return torch.tensor(s_lst, dtype=torch.float), torch.tensor(a_lst), \\\n",
    "               torch.tensor(r_lst), torch.tensor(s_prime_lst, dtype=torch.float), \\\n",
    "               torch.tensor(done_mask_lst)\n",
    "\n",
    "    def size(self):\n",
    "        return len(self.buffer)"
   ]
  },
  {
   "cell_type": "code",
   "execution_count": 4,
   "id": "001436e6",
   "metadata": {},
   "outputs": [],
   "source": [
    "class Qnet(nn.Module):\n",
    "    def __init__(self):\n",
    "        super(Qnet, self).__init__()\n",
    "        self.fc1 = nn.Linear(36, 128)\n",
    "        self.fc2 = nn.Linear(128, 128)\n",
    "        self.fc3 = nn.Linear(128, 4)\n",
    "\n",
    "    def forward(self, x):\n",
    "        x = F.relu(self.fc1(x))\n",
    "        x = F.relu(self.fc2(x))\n",
    "        x = self.fc3(x)\n",
    "        return x\n",
    "      \n",
    "    def sample_action(self, obs, epsilon):\n",
    "        out = self.forward(obs)\n",
    "        coin = random.random()\n",
    "        if coin < epsilon:\n",
    "            return random.randint(0,3)\n",
    "        else : \n",
    "            return out.argmax().item()   "
   ]
  },
  {
   "cell_type": "code",
   "execution_count": 5,
   "id": "e40df39e",
   "metadata": {},
   "outputs": [],
   "source": [
    "def train(q, q_target, memory, optimizer,loss_list):\n",
    "    for i in range(10):\n",
    "        s,a,r,s_prime,done_mask = memory.sample(batch_size)\n",
    "        q_out = q(s)\n",
    "        \n",
    "\n",
    "        q_a = q_out.gather(1,a)\n",
    "        # DQN\n",
    "        max_q_prime = q_target(s_prime).max(1)[0].unsqueeze(1)\n",
    "\n",
    "        target = r + gamma * max_q_prime * done_mask\n",
    "        target = target.type(torch.FloatTensor)\n",
    "        # MSE Loss\n",
    "        loss = F.mse_loss(q_a, target)\n",
    "        loss_list.append(loss)\n",
    "        #print(i,loss)\n",
    "        #print('-------------------------------')\n",
    "        # Smooth L1 Loss\n",
    "        #loss = F.smooth_l1_loss(q_a, target)\n",
    "\n",
    "        optimizer.zero_grad()\n",
    "        loss.backward()\n",
    "        optimizer.step()\n",
    "    return loss_list"
   ]
  },
  {
   "cell_type": "code",
   "execution_count": 35,
   "id": "1c4507d5",
   "metadata": {},
   "outputs": [],
   "source": [
    "class DuelingQnet(nn.Module):\n",
    "    def __init__(self):\n",
    "        super(DuelingQnet, self).__init__()\n",
    "        self.fc1 = nn.Linear(36, 128)\n",
    "        self.fc_value = nn.Linear(128, 128)\n",
    "        self.fc_adv = nn.Linear(128, 128)\n",
    "        self.value = nn.Linear(128, 1)\n",
    "        self.adv = nn.Linear(128, 4)\n",
    "\n",
    "    def forward(self, x):\n",
    "        x = F.relu(self.fc1(x))\n",
    "        v = F.relu(self.fc_value(x))\n",
    "        a = F.relu(self.fc_adv(x))\n",
    "        v = self.value(v)\n",
    "        a = self.adv(a)\n",
    "        a_avg = torch.mean(a)\n",
    "        q = v + a - a_avg\n",
    "        return q\n",
    "\n",
    "    def sample_action(self, obs, epsilon):\n",
    "        out = self.forward(obs)\n",
    "        coin = random.random()\n",
    "        if coin < epsilon:\n",
    "            return random.randint(0,3)\n",
    "        else : \n",
    "            return out.argmax().item()  \n"
   ]
  },
  {
   "cell_type": "code",
   "execution_count": 38,
   "id": "43b88a7e",
   "metadata": {},
   "outputs": [],
   "source": [
    "def main():\n",
    "    env = rlcard.make('leduc-holdem')\n",
    "    env.set_agents([RandomAgent(num_actions=env.num_actions)])\n",
    "\n",
    "    model=torch.load('logs/dueling_dqn_model.pt') # logs/double_dqn_model.pt, logs/dueling_dqn_model.pt\n",
    "    model.eval()\n",
    "    \n",
    "    for it in range(10):\n",
    "        pay_0 = 0\n",
    "        pay_1 = 0\n",
    "        for n_epi in range(100):\n",
    "            epsilon = max(0.01, 0.08 - 0.01*(n_epi/200))\n",
    "            s,id = env.reset()\n",
    "            while not env.is_over():\n",
    "                if id == 0:\n",
    "                    a=model.sample_action(torch.from_numpy(s['obs']).float(),epsilon)\n",
    "                else:\n",
    "                    a=random.randint(0,3)\n",
    "\n",
    "                if a not in s['legal_actions'].keys():\n",
    "                    a=2\n",
    "                s_prime, id_prime = env.step(a)\n",
    "                s=s_prime\n",
    "                id = id_prime\n",
    "            payoffs = env.get_payoffs()\n",
    "            pay_0 = pay_0+payoffs[0]\n",
    "            pay_1 = pay_1+payoffs[1]\n",
    "        \n",
    "        \n",
    "\n",
    "        print(\"score_id_0 : {:.1f}, score_id_1 : {:.1f}\".format(pay_0, pay_1))\n",
    "\n"
   ]
  },
  {
   "cell_type": "code",
   "execution_count": 39,
   "id": "4baec8d8",
   "metadata": {},
   "outputs": [
    {
     "name": "stdout",
     "output_type": "stream",
     "text": [
      "score_id_0 : 22.0, score_id_1 : -22.0\n",
      "score_id_0 : 11.0, score_id_1 : -11.0\n",
      "score_id_0 : 28.0, score_id_1 : -28.0\n",
      "score_id_0 : 25.5, score_id_1 : -25.5\n",
      "score_id_0 : 29.0, score_id_1 : -29.0\n",
      "score_id_0 : 12.5, score_id_1 : -12.5\n",
      "score_id_0 : 33.0, score_id_1 : -33.0\n",
      "score_id_0 : 37.5, score_id_1 : -37.5\n",
      "score_id_0 : 13.0, score_id_1 : -13.0\n",
      "score_id_0 : 0.0, score_id_1 : 0.0\n"
     ]
    }
   ],
   "source": [
    "if __name__ == '__main__':\n",
    "    main()"
   ]
  },
  {
   "cell_type": "code",
   "execution_count": null,
   "id": "51eb2b61",
   "metadata": {},
   "outputs": [],
   "source": []
  },
  {
   "cell_type": "code",
   "execution_count": null,
   "id": "15f827cb",
   "metadata": {},
   "outputs": [],
   "source": []
  },
  {
   "cell_type": "code",
   "execution_count": null,
   "id": "9d6c48f1",
   "metadata": {},
   "outputs": [],
   "source": []
  },
  {
   "cell_type": "code",
   "execution_count": null,
   "id": "4fc79525",
   "metadata": {},
   "outputs": [],
   "source": []
  }
 ],
 "metadata": {
  "kernelspec": {
   "display_name": "Python 3 (ipykernel)",
   "language": "python",
   "name": "python3"
  },
  "language_info": {
   "codemirror_mode": {
    "name": "ipython",
    "version": 3
   },
   "file_extension": ".py",
   "mimetype": "text/x-python",
   "name": "python",
   "nbconvert_exporter": "python",
   "pygments_lexer": "ipython3",
   "version": "3.8.10"
  }
 },
 "nbformat": 4,
 "nbformat_minor": 5
}
